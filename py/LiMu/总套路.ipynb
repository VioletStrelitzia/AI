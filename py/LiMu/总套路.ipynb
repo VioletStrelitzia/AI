{
 "cells": [
  {
   "cell_type": "markdown",
   "metadata": {},
   "source": [
    "# 深度学习流程\n",
    "## 1. 搞定数据迭代器（数据读入）\n",
    "### *train_iter* 训练数据\n",
    "### *test_iter* 测试数据\n",
    "## 2. 设置各种超参数\n",
    "### *batch_size* 每一次训练传入的样本数量\n",
    "### *lr*(learning rate) 学习率\n",
    "### *num_epochs* 训练迭代次数\n",
    "## 3. 设计模型的架构\n",
    "### *net* 网络本体\n",
    "## 4. 设置损失函数\n",
    "### *loss* 损失函数\n",
    "## 5. 定义优化方法（设置优化器）\n",
    "### *trainer*/*optater* 优化器，直接对参数微调的对象\n",
    "## 6. 开始训练\n",
    "### *train* 训练流程基本固定\n"
   ]
  }
 ],
 "metadata": {
  "language_info": {
   "name": "python"
  }
 },
 "nbformat": 4,
 "nbformat_minor": 2
}
