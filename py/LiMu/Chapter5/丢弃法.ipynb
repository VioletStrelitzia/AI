{
 "cells": [
  {
   "cell_type": "markdown",
   "metadata": {},
   "source": [
    "## 丢弃法\n",
    "\n",
    "### 动机\n",
    "\n",
    "- 一个好的模型需要对输入数据的扰动鲁棒\n",
    "  - 使用有噪音的数据 $\\Leftrightarrow$ $Tikhonov$ 法则\n",
    "  - 丢弃法：在层之间加入噪音而不是输入时\n",
    "\n",
    "### 无偏差地加入噪音\n",
    "\n",
    "- 对 $\\boldsymbol x$ 加入噪音，我们希望 $E[\\boldsymbol x'] = \\boldsymbol x$\n",
    "- 丢弃法对每个元素进行如下扰动\n",
    "$$\n",
    "\\begin{aligned}\n",
    "x'_i &= \\begin{cases}\n",
    "0 & \\text{概率为 } p \\\\\n",
    "\\frac{x_i}{1-p} & \\text{otherwise}\n",
    "\\end{cases} \\\\\n",
    "b' &= \\begin{cases}\n",
    "0 & \\text{概率为 } p \\\\\n",
    "b & \\text{otherwise}\n",
    "\\end{cases}\n",
    "\\end{aligned}\n",
    "$$"
   ]
  }
 ],
 "metadata": {
  "language_info": {
   "name": "python"
  }
 },
 "nbformat": 4,
 "nbformat_minor": 2
}
