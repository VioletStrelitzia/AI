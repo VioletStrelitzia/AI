{
 "cells": [
  {
   "cell_type": "markdown",
   "metadata": {},
   "source": [
    "# 优化方法\n",
    "## 梯度下降\n",
    "\n",
    "- 挑选一个初始值 $w_0$\n",
    "- 重复迭代参数 $t = 1,2,3\\dots$ $$w_t = w_{t-1}-\\eta \\frac{\\partial l}{\\partial \\boldsymbol w_{t-1}}$$\n",
    "  - 沿梯度方向将增加损失函数\n",
    "  - 学习率：步长的超参数（要适度）\n",
    "\n",
    "### 小批量梯度下降\n",
    "\n",
    "- 在整个训练集上计算梯度成本太高\n",
    "- 用随机采样 $b$ 个样本 $i_1,i_2,\\dots,i_b$ 来整个训练集上的近似损失 $$\\frac{1}{b}\\sum_{i\\in I_b}l(\\boldsymbol x_i, y_i, \\boldsymbol w)$$\n",
    "- $b$ 是批量大小：另一个重要的超参数"
   ]
  }
 ],
 "metadata": {
  "language_info": {
   "name": "python"
  }
 },
 "nbformat": 4,
 "nbformat_minor": 2
}
