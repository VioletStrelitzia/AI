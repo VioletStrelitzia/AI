{
 "cells": [
  {
   "cell_type": "markdown",
   "metadata": {},
   "source": [
    "# 自动求导\n",
    "## 向量求导\n",
    "||$x (1,)$|$\\boldsymbol x (n,1)$|$\\boldsymbol X (n,k)$|\n",
    "|:-:|:-:|:-:|:-:|\n",
    "|$y (1,)$|$\\frac{\\partial y}{\\partial x} (1,)$|$\\frac{\\partial y}{\\partial \\boldsymbol x} (1,n)$|$\\frac{\\partial y}{\\partial \\boldsymbol X} (k,n)$|\n",
    "|$\\boldsymbol y (m,1)$|$\\frac{\\partial \\boldsymbol y}{\\partial x} (m,1)$|$\\frac{\\partial \\boldsymbol y}{\\partial \\boldsymbol x} (m,n)$|$\\frac{\\partial \\boldsymbol y}{\\partial \\boldsymbol X} (m,k,n)$|\n",
    "|$\\boldsymbol Y (m,l)$|$\\frac{\\partial \\boldsymbol Y}{\\partial x} (m,l)$|$\\frac{\\partial \\boldsymbol Y}{\\partial \\boldsymbol x} (m,l,n)$|$\\frac{\\partial \\boldsymbol Y}{\\partial \\boldsymbol X} (m,l,k,n)$|\n",
    "\n",
    "样例：\n",
    "\n",
    "|$y$|$a$|$\\Vert x \\Vert^2$|$\\left\\langle \\boldsymbol u, \\boldsymbol v \\right\\rangle$|\n",
    "|:-:|:-:|:-:|:-:|\n",
    "|$\\frac{\\partial y}{\\partial \\boldsymbol x}$|${\\boldsymbol 0}^T$|$2 {\\boldsymbol x}^T$|${\\boldsymbol u}^T\\frac{\\partial \\boldsymbol v}{\\partial \\boldsymbol x}+{\\boldsymbol v}^T\\frac{\\partial \\boldsymbol u}{\\partial \\boldsymbol x}$|\n",
    "\n",
    "- 当 $y$ 为标量而 $\\boldsymbol x$ 为向量时，所得导数为转置的向量\n",
    "- 当 $\\boldsymbol y$ 为向量而 $x$ 为标量时，所得导数为同形状的向量\n",
    "\n",
    "## 数值求导"
   ]
  },
  {
   "cell_type": "code",
   "execution_count": 3,
   "metadata": {},
   "outputs": [
    {
     "data": {
      "text/plain": [
       "(tensor([0., 1., 2., 3.], requires_grad=True), None)"
      ]
     },
     "execution_count": 3,
     "metadata": {},
     "output_type": "execute_result"
    }
   ],
   "source": [
    "import torch\n",
    "\n",
    "x = torch.arange(4.0)\n",
    "x.requires_grad_(True)\n",
    "x, x.grad"
   ]
  },
  {
   "cell_type": "markdown",
   "metadata": {},
   "source": [
    "计算函数 $y = 2\\boldsymbol x \\boldsymbol x^T$"
   ]
  },
  {
   "cell_type": "code",
   "execution_count": 5,
   "metadata": {},
   "outputs": [
    {
     "data": {
      "text/plain": [
       "tensor(28., grad_fn=<MulBackward0>)"
      ]
     },
     "execution_count": 5,
     "metadata": {},
     "output_type": "execute_result"
    }
   ],
   "source": [
    "y = 2 * torch.dot(x, x)\n",
    "y"
   ]
  },
  {
   "cell_type": "code",
   "execution_count": 6,
   "metadata": {},
   "outputs": [
    {
     "data": {
      "text/plain": [
       "tensor([ 0.,  4.,  8., 12.])"
      ]
     },
     "execution_count": 6,
     "metadata": {},
     "output_type": "execute_result"
    }
   ],
   "source": [
    "y.backward()\n",
    "x.grad"
   ]
  },
  {
   "cell_type": "code",
   "execution_count": 7,
   "metadata": {},
   "outputs": [
    {
     "data": {
      "text/plain": [
       "tensor([1., 1., 1., 1.])"
      ]
     },
     "execution_count": 7,
     "metadata": {},
     "output_type": "execute_result"
    }
   ],
   "source": [
    "x.grad.zero_()\n",
    "y = x.sum()\n",
    "y.backward()\n",
    "x.grad"
   ]
  },
  {
   "cell_type": "code",
   "execution_count": 8,
   "metadata": {},
   "outputs": [
    {
     "data": {
      "text/plain": [
       "tensor([0., 2., 4., 6.])"
      ]
     },
     "execution_count": 8,
     "metadata": {},
     "output_type": "execute_result"
    }
   ],
   "source": [
    "x.grad.zero_()\n",
    "y = x * x\n",
    "y.sum().backward()\n",
    "x.grad"
   ]
  },
  {
   "cell_type": "markdown",
   "metadata": {},
   "source": [
    "将某些计算移动到计算图之外，设置为常数"
   ]
  },
  {
   "cell_type": "code",
   "execution_count": 10,
   "metadata": {},
   "outputs": [
    {
     "data": {
      "text/plain": [
       "(tensor([0., 1., 4., 9.]), tensor([True, True, True, True]))"
      ]
     },
     "execution_count": 10,
     "metadata": {},
     "output_type": "execute_result"
    }
   ],
   "source": [
    "x.grad.zero_()\n",
    "y = x * x\n",
    "u = y.detach()\n",
    "z = u * x\n",
    "# 此时，u 对于表达式 z 来说就是一个常数\n",
    "z.sum().backward()\n",
    "x.grad, x.grad == u"
   ]
  }
 ],
 "metadata": {
  "kernelspec": {
   "display_name": "base",
   "language": "python",
   "name": "python3"
  },
  "language_info": {
   "codemirror_mode": {
    "name": "ipython",
    "version": 3
   },
   "file_extension": ".py",
   "mimetype": "text/x-python",
   "name": "python",
   "nbconvert_exporter": "python",
   "pygments_lexer": "ipython3",
   "version": "3.11.7"
  }
 },
 "nbformat": 4,
 "nbformat_minor": 2
}
