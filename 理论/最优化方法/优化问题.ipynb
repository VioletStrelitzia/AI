{
 "cells": [
  {
   "cell_type": "markdown",
   "metadata": {},
   "source": [
    "### 数学优化\n",
    "##### 形式\n",
    "\n",
    "$$\n",
    "\\begin{aligned}\n",
    "\\min & \\quad f_0(x) \\\\\n",
    "\\text{s.t.} & \\quad f_i(x) \\leq b_i, \\quad i=1,2,\\cdots,m\n",
    "\\end{aligned}\n",
    "$$\n",
    "\n",
    "#### 一、最小二乘法\n",
    "\n",
    "##### 1. 形式\n",
    "\n",
    "$$\n",
    "\\min f_0(x) = \\Vert Ax-b \\Vert_2^2 = \\sum_{i=1}^k (a_i^Tx-b_i)^2\n",
    "$$\n",
    "\n",
    "其中，$A \\in \\boldsymbol R^{k \\times n}$\n",
    "\n",
    "##### 2. 求解\n",
    "\n",
    "$$\n",
    "\\begin{aligned}\n",
    "\\nabla f_0(x) &= 2A^TAx-2A^Tb \\\\\n",
    "&= 0 \\\\\n",
    "x &= (A^TA)^{-1}A^Tb\n",
    "\\end{aligned}\n",
    "$$\n",
    "\n",
    "#### 二、线性规划\n",
    "\n",
    "##### 1. 形式\n",
    "$$\n",
    "\\begin{aligned}\n",
    "\\min & \\quad c^Tx \\\\\n",
    "\\text{s.t.} & \\quad Ax \\leq b \\\\\n",
    "& \\quad x \\geq 0\n",
    "\\end{aligned}\n",
    "$$"
   ]
  }
 ],
 "metadata": {
  "language_info": {
   "name": "python"
  }
 },
 "nbformat": 4,
 "nbformat_minor": 2
}
